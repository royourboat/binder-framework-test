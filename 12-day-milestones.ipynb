{
 "cells": [
  {
   "cell_type": "markdown",
   "id": "20c0e9d0",
   "metadata": {},
   "source": [
    "# Day 4 question"
   ]
  },
  {
   "cell_type": "markdown",
   "id": "35214baa",
   "metadata": {},
   "source": [
    "Download the data set about Value of Energy Cost Saving Program for businesses in New York City (under the \"Export\" option, there is a way to retrieve a CSV file). Answer the following questions.\n",
    "\n",
    "    How many different companies are represented in the data set?\n",
    "    What is the total number of jobs created for businesses in Queens?\n",
    "    How many different unique email domains names are there in the data set?\n",
    "    Considering only NTAs with at least 5 listed businesses, what is the average total savings and the total jobs created for each NTA?\n",
    "    Save your result for the previous question as a CSV file.\n"
   ]
  },
  {
   "cell_type": "code",
   "execution_count": 1,
   "id": "7e98c64a",
   "metadata": {},
   "outputs": [],
   "source": [
    "import numpy as np\n",
    "import pandas as pd"
   ]
  },
  {
   "cell_type": "code",
   "execution_count": 2,
   "id": "d684defb",
   "metadata": {},
   "outputs": [
    {
     "data": {
      "text/plain": [
       "Index(['Company Name', 'company contact', 'company email', 'company phone',\n",
       "       'Address', 'City', 'State', 'Postcode', 'Industry', 'Industry descr',\n",
       "       'Company Type', 'Current fulltime', 'Job created', 'Job retain',\n",
       "       'Effective Date', 'Total Savings',\n",
       "       'Savings from beginning receiving benefits', 'Borough', 'Latitude',\n",
       "       'Longitude', 'Community Board', 'Council District', 'Census Tract',\n",
       "       'BIN', 'BBL', 'NTA'],\n",
       "      dtype='object')"
      ]
     },
     "execution_count": 2,
     "metadata": {},
     "output_type": "execute_result"
    }
   ],
   "source": [
    "#Read in csv file\n",
    "df = pd.read_csv('./Value_of_Energy_Cost_Savings_Program_Savings_for_Businesses_-_FY2020.csv')\n",
    "df.keys()"
   ]
  },
  {
   "cell_type": "code",
   "execution_count": 3,
   "id": "9cc8136c",
   "metadata": {},
   "outputs": [
    {
     "name": "stdout",
     "output_type": "stream",
     "text": [
      "1. There are 439 unique companies.\n"
     ]
    }
   ],
   "source": [
    "#Find num unique company names\n",
    "print('1. There are', df['Company Name'].nunique(), 'unique companies.')"
   ]
  },
  {
   "cell_type": "code",
   "execution_count": 4,
   "id": "c91a58f2",
   "metadata": {},
   "outputs": [
    {
     "name": "stdout",
     "output_type": "stream",
     "text": [
      "2. Jobs created in Queens: 102.0\n"
     ]
    }
   ],
   "source": [
    "#Group by boroughs.  Find total jobs created in Queens.\n",
    "borough_groups = df.groupby('Borough')\n",
    "queens_new_jobs = borough_groups.get_group('Queens')['Job created'].sum()\n",
    "print('2. Jobs created in Queens:', queens_new_jobs)"
   ]
  },
  {
   "cell_type": "code",
   "execution_count": 5,
   "id": "7538cff4",
   "metadata": {
    "scrolled": true
   },
   "outputs": [
    {
     "name": "stdout",
     "output_type": "stream",
     "text": [
      "3. Emails:  433\n",
      "   Unique domain names:  361\n"
     ]
    }
   ],
   "source": [
    "#Obtain unique email domain names.\n",
    "emails = df['company email'].dropna()\n",
    "\n",
    "domains = [ee.split('@')[-1] for ee in emails]\n",
    "\n",
    "unique_domains = set(domains)\n",
    "print('3. Emails: ', len(emails))\n",
    "print('   Unique domain names: ', len(unique_domains))"
   ]
  },
  {
   "cell_type": "code",
   "execution_count": 6,
   "id": "44f7cbc3",
   "metadata": {},
   "outputs": [],
   "source": [
    "nta_groups = df.groupby('NTA')"
   ]
  },
  {
   "cell_type": "code",
   "execution_count": 7,
   "id": "16228fcd",
   "metadata": {
    "scrolled": true
   },
   "outputs": [
    {
     "data": {
      "text/plain": [
       "NTA\n",
       "Astoria                              False\n",
       "Baisley Park                         False\n",
       "Battery Park City-Lower Manhattan     True\n",
       "Bedford                              False\n",
       "Bensonhurst West                     False\n",
       "                                     ...  \n",
       "Whitestone                           False\n",
       "Williamsburg                         False\n",
       "Windsor Terrace                      False\n",
       "Woodside                             False\n",
       "park-cemetery-etc-Brooklyn            True\n",
       "Name: Company Name, Length: 79, dtype: bool"
      ]
     },
     "execution_count": 7,
     "metadata": {},
     "output_type": "execute_result"
    }
   ],
   "source": [
    "nta_groups.count()['Company Name']>=5"
   ]
  },
  {
   "cell_type": "code",
   "execution_count": 8,
   "id": "dbbd49a1",
   "metadata": {},
   "outputs": [
    {
     "data": {
      "text/plain": [
       "NTA\n",
       "Astoria                               0.0\n",
       "Baisley Park                          0.0\n",
       "Battery Park City-Lower Manhattan     0.0\n",
       "Bedford                               0.0\n",
       "Bensonhurst West                      0.0\n",
       "                                     ... \n",
       "Whitestone                           10.0\n",
       "Williamsburg                          0.0\n",
       "Windsor Terrace                       0.0\n",
       "Woodside                              0.0\n",
       "park-cemetery-etc-Brooklyn            0.0\n",
       "Name: Job created, Length: 79, dtype: float64"
      ]
     },
     "execution_count": 8,
     "metadata": {},
     "output_type": "execute_result"
    }
   ],
   "source": [
    "nta_groups['Job created'].sum()"
   ]
  },
  {
   "cell_type": "code",
   "execution_count": 9,
   "id": "0ab68041",
   "metadata": {
    "scrolled": false
   },
   "outputs": [],
   "source": [
    "index = nta_groups.count()['Company Name']>=5\n",
    "mean_total_savings = nta_groups['Total Savings'].mean()[index]\n",
    "total_jobs_created = nta_groups['Job created'].sum()[index]\n",
    "\n",
    "mean_total_savings.name = 'Mean total savings'\n",
    "total_jobs_created.name = 'Total jobs created'\n",
    "q5 = pd.merge(mean_total_savings, total_jobs_created,right_index = True,left_index = True)\n",
    "q5.to_csv('./day4.csv')"
   ]
  },
  {
   "cell_type": "markdown",
   "id": "4d0f11b2",
   "metadata": {},
   "source": [
    "# Day 5 questions "
   ]
  },
  {
   "cell_type": "markdown",
   "id": "15bfa20b",
   "metadata": {},
   "source": [
    "\n",
    "Day 5: Plotting\n",
    "\n",
    "Matplotlib is Python's most popular plotting package. It provides an object-oriented programming API and a procedural API similar to that of MATLAB. While much can be done with Matplotlib, for both nicer looking and statistically focused visualization, consider using Seaborn, which extends and builds on Matplotlib.\n",
    "\n",
    "With these plotting libraries, don't focus on trying to memorize the entire API. A good starting point is to visit the examples page and look for similar visualizations of what you are trying to build. Altair and Bokeh are two Python packages for creating interactive visualizations. In the Fellowship program, we'll focus on using Altair.\n",
    "\n",
    "Milestone Action Items\n",
    "\n",
    "    Go through the Introductory Tutorials on Matplotlib.\n",
    "    Using the same data set and results that you were working with in the pandas action items section (Day 4), create a\n",
    "        scatter plot of jobs created versus average savings. Use both a standard and a logarithmic scale for the average savings.\n",
    "        histogram of the log of the average total savings.\n",
    "        line plot of the total jobs created for each month.\n",
    "    If you have time, take a look at this short tutorial on Altair.\n",
    "\n"
   ]
  },
  {
   "cell_type": "code",
   "execution_count": 10,
   "id": "aacf3282",
   "metadata": {},
   "outputs": [],
   "source": [
    "import matplotlib.pyplot as plt"
   ]
  },
  {
   "cell_type": "code",
   "execution_count": 11,
   "id": "51ca8fdb",
   "metadata": {},
   "outputs": [
    {
     "data": {
      "text/plain": [
       "Index(['Mean total savings', 'Total jobs created'], dtype='object')"
      ]
     },
     "execution_count": 11,
     "metadata": {},
     "output_type": "execute_result"
    }
   ],
   "source": [
    "q5.keys()"
   ]
  },
  {
   "cell_type": "code",
   "execution_count": 12,
   "id": "aabbf5f9",
   "metadata": {
    "scrolled": false
   },
   "outputs": [
    {
     "data": {
      "image/png": "[encoded data removed]",
      "text/plain": [
       "<Figure size 600x450 with 1 Axes>"
      ]
     },
     "metadata": {
      "needs_background": "light"
     },
     "output_type": "display_data"
    }
   ],
   "source": [
    "xn = q5.keys()[0]\n",
    "yn = q5.keys()[1]\n",
    "x = q5[xn]\n",
    "y = q5[yn]\n",
    "plt.figure(dpi=150, figsize=(4,3))\n",
    "plt.scatter(x,y, marker ='o', s = 20, c = 'k', alpha = 0.25)\n",
    "plt.xlabel(xn)\n",
    "plt.ylabel(yn)\n",
    "plt.show()"
   ]
  },
  {
   "cell_type": "code",
   "execution_count": 13,
   "id": "7261c109",
   "metadata": {},
   "outputs": [
    {
     "data": {
      "image/png": "[encoded data removed]",
      "text/plain": [
       "<Figure size 600x450 with 1 Axes>"
      ]
     },
     "metadata": {
      "needs_background": "light"
     },
     "output_type": "display_data"
    }
   ],
   "source": [
    "plt.figure(dpi=150, figsize=(4,3))\n",
    "plt.scatter(x,y, marker ='o', s = 20, c = 'k', alpha = 0.25)\n",
    "plt.xlabel(xn)\n",
    "plt.ylabel(yn)\n",
    "plt.xscale('log')\n",
    "plt.yscale('log')\n",
    "plt.show()"
   ]
  },
  {
   "cell_type": "code",
   "execution_count": 14,
   "id": "f236f1ee",
   "metadata": {},
   "outputs": [
    {
     "data": {
      "image/png": "[encoded data removed]",
      "text/plain": [
       "<Figure size 600x450 with 1 Axes>"
      ]
     },
     "metadata": {
      "needs_background": "light"
     },
     "output_type": "display_data"
    }
   ],
   "source": [
    "import numpy as np\n",
    "plt.figure(dpi=150, figsize=(4,3))\n",
    "plt.hist(np.log10(x))\n",
    "plt.xlabel('log10 ' + xn)\n",
    "plt.ylabel('frequency')\n",
    "#plt.xscale('log')\n",
    "plt.show()"
   ]
  },
  {
   "cell_type": "code",
   "execution_count": 15,
   "id": "830473e5",
   "metadata": {},
   "outputs": [],
   "source": [
    "df_jobs = df.dropna(subset=['Job created'])\n",
    "df_jobs = df_jobs[['Job created', 'Effective Date']].sort_values(by='Effective Date')\n",
    "df_jobs['Effective Date'] = pd.to_datetime(df_jobs['Effective Date'])"
   ]
  },
  {
   "cell_type": "code",
   "execution_count": 16,
   "id": "11e593ed",
   "metadata": {
    "scrolled": false
   },
   "outputs": [
    {
     "data": {
      "text/plain": [
       "Text(0, 0.5, 'Job created')"
      ]
     },
     "execution_count": 16,
     "metadata": {},
     "output_type": "execute_result"
    },
    {
     "data": {
      "image/png": "[encoded data removed]",
      "text/plain": [
       "<Figure size 600x450 with 1 Axes>"
      ]
     },
     "metadata": {
      "needs_background": "light"
     },
     "output_type": "display_data"
    }
   ],
   "source": [
    "x = df_jobs['Effective Date'].dt.month\n",
    "y = df_jobs['Job created']\n",
    "plt.figure(dpi = 150, figsize=(4,3))\n",
    "plt.plot(x,y, zorder = 1)\n",
    "plt.scatter(x,y, s = 1, c = 'k', zorder = 2)\n",
    "plt.xlabel('Month')\n",
    "plt.ylabel(y.name)"
   ]
  },
  {
   "cell_type": "code",
   "execution_count": null,
   "id": "5c8f61da",
   "metadata": {},
   "outputs": [],
   "source": []
  },
  {
   "cell_type": "code",
   "execution_count": null,
   "id": "8d5a50df",
   "metadata": {},
   "outputs": [],
   "source": []
  },
  {
   "cell_type": "code",
   "execution_count": null,
   "id": "fede2e94",
   "metadata": {},
   "outputs": [],
   "source": []
  },
  {
   "cell_type": "code",
   "execution_count": null,
   "id": "de0cbdd3",
   "metadata": {},
   "outputs": [],
   "source": []
  }
 ],
 "metadata": {
  "kernelspec": {
   "display_name": "Python 3",
   "language": "python",
   "name": "python3"
  },
  "language_info": {
   "codemirror_mode": {
    "name": "ipython",
    "version": 3
   },
   "file_extension": ".py",
   "mimetype": "text/x-python",
   "name": "python",
   "nbconvert_exporter": "python",
   "pygments_lexer": "ipython3",
   "version": "3.7.11"
  }
 },
 "nbformat": 4,
 "nbformat_minor": 5
}
